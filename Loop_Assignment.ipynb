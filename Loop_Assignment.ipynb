{
 "cells": [
  {
   "cell_type": "markdown",
   "id": "77efe5fb",
   "metadata": {},
   "source": [
    "# Q. W. A P. which takes one number from 0 to 9 from the user and prints\n",
    "- it in the word. And if the word is not from 0 to 9 then\n",
    "- it should print that number is outside of the range and program should exit.\n",
    "- For exapmple:-\n",
    "- input = 1\n",
    "- output = one"
   ]
  },
  {
   "cell_type": "code",
   "execution_count": 2,
   "id": "74199573",
   "metadata": {},
   "outputs": [
    {
     "name": "stdout",
     "output_type": "stream",
     "text": [
      "Enter a number from 0 to 9 - 1\n",
      "one\n"
     ]
    }
   ],
   "source": [
    "a = int(input(\"Enter a number from 0 to 9 - \"))\n",
    "\n",
    "if a==1:\n",
    "    print('one')\n",
    "elif a==2:\n",
    "    print('two')\n",
    "elif a==3:\n",
    "    print('three')\n",
    "elif a==4:\n",
    "    print('four')\n",
    "elif a==5:\n",
    "    print('five')\n",
    "elif a==6:\n",
    "    print('six')\n",
    "elif a==7:\n",
    "    print('seven')\n",
    "elif a==8:\n",
    "    print('eight')\n",
    "elif a==9:\n",
    "    print('nine')\n",
    "else:\n",
    "    print(f'The number {a} is out of range')"
   ]
  },
  {
   "cell_type": "code",
   "execution_count": null,
   "id": "730ac43b",
   "metadata": {},
   "outputs": [],
   "source": []
  },
  {
   "cell_type": "markdown",
   "id": "39c9fa66",
   "metadata": {},
   "source": [
    "# Q. W. A P. to implement calculator but the operation to be done and twonumbers will be taken as input from user:-\n",
    "## Operation console should show below:-\n",
    "### Please select any one operation from below:-\n",
    "- * To add enter 1\n",
    "- * to subtract enter 2\n",
    "- * To multiply enter 3\n",
    "- * To divide enter 4\n",
    "- * To divide and find quotient enter 5\n",
    "- * To divide and find remainder enter 6\n",
    "- * To divide and find num1 to the power of num2 enter 7\n",
    "- * To Come out of the program enter 8"
   ]
  },
  {
   "cell_type": "code",
   "execution_count": 9,
   "id": "89332a97",
   "metadata": {},
   "outputs": [
    {
     "name": "stdout",
     "output_type": "stream",
     "text": [
      "\tCalculator\n",
      "Please select any one operation from below:-\n",
      "To add enter 1\n",
      " To subtract enter 2 \n",
      " To multiply enter 3 \\n To divide enter 4 \n",
      " To To divide and find quotient enter 5 \n",
      " To divide and find remainder enter 6 \n",
      " To divide and find num1 to the power of num2 enter 7 \n",
      " To come out of the program enter 8\n",
      "Enter your choice of operation: 1\n",
      "Enter your first number: 12\n",
      "Enter your second number: 4\n",
      "12.0 + 4.0 =16.0\n"
     ]
    }
   ],
   "source": [
    "print('\\tCalculator')\n",
    "print('Please select any one operation from below:-')\n",
    "print(\"To add enter 1\\n To subtract enter 2 \\n To multiply enter 3 \\\\n To divide enter 4 \\n To To divide and find quotient enter 5 \\\n",
    "\\n To divide and find remainder enter 6 \\\n",
    "\\n To divide and find num1 to the power of num2 enter 7 \\\n",
    "\\n To come out of the program enter 8\")\n",
    "operation =input(\"Enter your choice of operation: \")\n",
    "\n",
    "\n",
    "if operation =='1':\n",
    "    num1 = float(input(\"Enter your first number: \"))\n",
    "    num2 = float(input(\"Enter your second number: \"))\n",
    "    print(f'{num1} + {num2} ={num1+num2}')\n",
    "elif operation =='2':\n",
    "    num1 = float(input(\"Enter your first number: \"))\n",
    "    num2 = float(input(\"Enter your second number: \"))\n",
    "    print(f'{num1} - {num2} = {num1 - num2}')\n",
    "elif operation == '3':\n",
    "    num1 = float(input(\"Enter your first number: \"))\n",
    "    num2 = float(input(\"Enter your second number: \"))\n",
    "    print(f'{num1}*{num2} = {num1*num2}')\n",
    "elif operation == '4':\n",
    "    num1 = float(input(\"Enter your first number: \"))\n",
    "    num2 = float(input(\"Enter your second number: \"))\n",
    "    print(f'{num1} / {num2} = {num1/num2}')\n",
    "elif operation == '5':\n",
    "    num1 = float(input(\"Enter your first number: \"))\n",
    "    num2 = float(input(\"Enter your second number: \"))\n",
    "    print(f'{num1} // {num2} = {num1 // num2}')\n",
    "elif operation == '6':\n",
    "    num1 = float(input(\"Enter your first number: \"))\n",
    "    num2 = float(input(\"Enter your second number: \"))\n",
    "    print(f'{num1} % {num2} = {num1 % num2}')\n",
    "elif operation == '7':\n",
    "    num1 = float(input(\"Enter your first number: \"))\n",
    "    num2 = float(input(\"Enter your second number: \"))\n",
    "    print(f'{num1} ** {num2} = {num1 ** num2}')\n",
    "else:\n",
    "    print('exit program')\n"
   ]
  },
  {
   "cell_type": "code",
   "execution_count": null,
   "id": "fb650de9",
   "metadata": {},
   "outputs": [],
   "source": []
  },
  {
   "cell_type": "markdown",
   "id": "eea317a0",
   "metadata": {},
   "source": [
    "# Q. W A P to check whether a year entered by user is an leap year or not?\n",
    "#### Check with below input:-\n",
    "- leap year:- 2012, 1968, 2004, 1200, 1600,2400\n",
    "- Non-lear year:- 1971, 2006, 1700,1800,1900"
   ]
  },
  {
   "cell_type": "code",
   "execution_count": 25,
   "id": "dca25667",
   "metadata": {},
   "outputs": [
    {
     "name": "stdout",
     "output_type": "stream",
     "text": [
      "Enter a year - 1900\n",
      "1900 is not a leap year\n"
     ]
    }
   ],
   "source": [
    "year = int(input(\"Enter a year - \"))\n",
    "\n",
    "if year%400 == 0 or (year%4 == 0 and year%100 !=0):\n",
    "    print(f'{year} is a leap year')\n",
    "else:\n",
    "    print(f'{year} is not a leap year')"
   ]
  },
  {
   "cell_type": "code",
   "execution_count": null,
   "id": "e82c63c2",
   "metadata": {},
   "outputs": [],
   "source": []
  },
  {
   "cell_type": "markdown",
   "id": "bc172ce9",
   "metadata": {},
   "source": [
    "# Q. W A P which takes one number from the user and checks whether it is an even or odd number?, If it even then prints number is even number else prints that number is odd number."
   ]
  },
  {
   "cell_type": "code",
   "execution_count": 27,
   "id": "e63d86a8",
   "metadata": {},
   "outputs": [
    {
     "name": "stdout",
     "output_type": "stream",
     "text": [
      "Enter a number- 5\n",
      "5 is an odd number\n"
     ]
    }
   ],
   "source": [
    "a = int(input(\"Enter a number- \"))\n",
    "if a%2 == 0:\n",
    "    print(f\"{a} is an even number\")\n",
    "else:\n",
    "    print(f\"{a} is an odd number\")"
   ]
  },
  {
   "cell_type": "code",
   "execution_count": null,
   "id": "b0095417",
   "metadata": {},
   "outputs": [],
   "source": []
  },
  {
   "cell_type": "markdown",
   "id": "307b4622",
   "metadata": {},
   "source": [
    "# Q. W A P which takes two numbers from the user and prints below output:-\n",
    "- 1. num1 is greater than num2 if num1 is greater than num2\n",
    "- 2. num1 is smaller than num2 if num1 is smaller than num2\n",
    "- 3. num1 is equal to num2 if num1 and num2 are equal\n",
    "##### Note:- \n",
    "- 1. Do this problem using if - else\n",
    "- 2. Do this using ternary operator"
   ]
  },
  {
   "cell_type": "code",
   "execution_count": 30,
   "id": "962ea8bb",
   "metadata": {},
   "outputs": [
    {
     "name": "stdout",
     "output_type": "stream",
     "text": [
      "Enter First number: 12\n",
      "Enter Second number: 4\n",
      "12 is greater than 4\n"
     ]
    }
   ],
   "source": [
    "num1 = int(input(\"Enter First number: \"))\n",
    "num2 = int(input(\"Enter Second number: \"))\n",
    "\n",
    "if num1>num2:\n",
    "    print(f\"{num1} is greater than {num2}\")\n",
    "elif num1<num2:\n",
    "    print(f\"{num1} is smaller than {num2}\")\n",
    "else:\n",
    "    print(f\"{num1} and {num2} are equal\")"
   ]
  },
  {
   "cell_type": "code",
   "execution_count": 31,
   "id": "c3cca020",
   "metadata": {},
   "outputs": [
    {
     "name": "stdout",
     "output_type": "stream",
     "text": [
      "Enter First number: 3\n",
      "Enter Second number: 4\n",
      "3 is smaller than 4\n"
     ]
    }
   ],
   "source": [
    "num1 = int(input(\"Enter First number: \"))\n",
    "num2 = int(input(\"Enter Second number: \"))\n",
    "\n",
    "print(f'{num1} is greater than {num2}') if num1>num2 else print(f\"{num1} is smaller than {num2}\") if num1<num2 else print(f\"{num1} and{num2} are equal\")"
   ]
  },
  {
   "cell_type": "code",
   "execution_count": null,
   "id": "1a1f65ea",
   "metadata": {},
   "outputs": [],
   "source": []
  },
  {
   "cell_type": "markdown",
   "id": "3427ec41",
   "metadata": {},
   "source": [
    "# Q. W A P which takes three numbers from the user and prints below\n",
    "##### output:-\n",
    "- 1. num1 is greater than num2 and num3 if num1 is greater than num2 and num3\n",
    "- 2. num2 is greater than num1 and num3 if num2 is greater than num1 and num3\n",
    "- 3. num3 is greater than num1 and num2 if num3 is greater than num1 and num2\n",
    "##### Note:-\n",
    "- 1. Do this problem using if - elif - else\n",
    "- 2. Do this using ternary operator\n",
    "- a = a if a>b else b"
   ]
  },
  {
   "cell_type": "code",
   "execution_count": 32,
   "id": "58cf2e97",
   "metadata": {},
   "outputs": [
    {
     "name": "stdout",
     "output_type": "stream",
     "text": [
      "Enter First number: 3\n",
      "Enter Second number: 4\n",
      "Enter Third number: 5\n",
      "5 is greater than 3 and 4\n"
     ]
    }
   ],
   "source": [
    "num1 = int(input(\"Enter First number: \"))\n",
    "num2 = int(input(\"Enter Second number: \"))\n",
    "num3 = int(input(\"Enter Third number: \"))\n",
    "\n",
    "if num1>num2 and num1>num3:\n",
    "    print(f\"{num1} is greater than {num2} and {num3}\")\n",
    "elif num2>num1 and num2>num3:\n",
    "    print(f\"{num2} is greater than {num1} and {num3}\")\n",
    "else:\n",
    "    print(f\"{num3} is greater than {num1} and {num2}\")"
   ]
  },
  {
   "cell_type": "code",
   "execution_count": 33,
   "id": "39ad7f3b",
   "metadata": {},
   "outputs": [
    {
     "name": "stdout",
     "output_type": "stream",
     "text": [
      "Enter First number: 3\n",
      "Enter Second number: 4\n",
      "Enter Third number: 5\n",
      "5 is greater than 3 and 4\n"
     ]
    }
   ],
   "source": [
    "num1 = int(input(\"Enter First number: \"))\n",
    "num2 = int(input(\"Enter Second number: \"))\n",
    "num3 = int(input(\"Enter Third number: \"))\n",
    "print(f\"{num1} is greater than {num2} and {num3}\") if num1>num2 and num1>num3 else print(f\"{num2} is greater than {num1} and {num3}\") if num2>num1 and num2>num3 else print(f\"{num3} is greater than {num1} and {num2}\")"
   ]
  },
  {
   "cell_type": "code",
   "execution_count": null,
   "id": "98476758",
   "metadata": {},
   "outputs": [],
   "source": []
  },
  {
   "cell_type": "markdown",
   "id": "118ab045",
   "metadata": {},
   "source": [
    "# Q. Write a Python program to find the length of the my_str using loop:-\n",
    "- Input:- 'Write a Python program to find the length of the my_str'\n",
    "- Output:- 55"
   ]
  },
  {
   "cell_type": "code",
   "execution_count": 42,
   "id": "1de3407f",
   "metadata": {},
   "outputs": [
    {
     "name": "stdout",
     "output_type": "stream",
     "text": [
      "Write a Python program to find the length of the my_str\n",
      "55\n"
     ]
    }
   ],
   "source": [
    "my_str =  'Write a Python program to find the length of the my_str'\n",
    "count  = 0\n",
    "print(my_str)\n",
    "for i in range(len(my_str)):\n",
    "    count = count+1\n",
    "    \n",
    "print(count)"
   ]
  },
  {
   "cell_type": "code",
   "execution_count": null,
   "id": "c50ab875",
   "metadata": {},
   "outputs": [],
   "source": []
  },
  {
   "cell_type": "markdown",
   "id": "9b336e68",
   "metadata": {},
   "source": [
    "# Q. Write a Python program to find the total number of times letter 'p' is appeared in the below string using loop:-\n",
    "- Input:- 'peter piper picked a peck of pickled peppers.\\n'\n",
    "- Output:- 9"
   ]
  },
  {
   "cell_type": "code",
   "execution_count": 53,
   "id": "3a1b1251",
   "metadata": {},
   "outputs": [
    {
     "name": "stdout",
     "output_type": "stream",
     "text": [
      "The total no.of times the letter 'p' appeared in the my_str: 9\n"
     ]
    }
   ],
   "source": [
    "my_str =  'peter piper picked a peck of pickled peppers.\\n'\n",
    "count = 0\n",
    "for i in range(len(my_str)):\n",
    "    if my_str[i] == 'p':\n",
    "        count = count+1\n",
    "print(f\"The total no.of times the letter 'p' appeared in the my_str: {count}\")\n",
    "    "
   ]
  },
  {
   "cell_type": "code",
   "execution_count": null,
   "id": "04cf7762",
   "metadata": {},
   "outputs": [],
   "source": []
  },
  {
   "cell_type": "markdown",
   "id": "1c51bbba",
   "metadata": {},
   "source": [
    "# Q. Write a Python Program, to print all the indexes of all occurences of letter 'p' appeared in the string using loop:-\n",
    "- Input:- 'peter piper picked a peck of pickled peppers.'\n",
    "- Output:-\n",
    "- 0\n",
    "- 6\n",
    "- 8\n",
    "- 12\n",
    "- 21\n",
    "- 29\n",
    "- 37\n",
    "- 39\n",
    "- 40"
   ]
  },
  {
   "cell_type": "code",
   "execution_count": 54,
   "id": "7b2dd9b1",
   "metadata": {},
   "outputs": [
    {
     "name": "stdout",
     "output_type": "stream",
     "text": [
      "0\n",
      "6\n",
      "8\n",
      "12\n",
      "21\n",
      "29\n",
      "37\n",
      "39\n",
      "40\n"
     ]
    }
   ],
   "source": [
    "my_str = 'peter piper picked a peck of pickled peppers.'\n",
    "\n",
    "for i in range(len(my_str)):\n",
    "    if my_str[i] == 'p':\n",
    "        print(i)"
   ]
  },
  {
   "cell_type": "code",
   "execution_count": null,
   "id": "bb56a7a0",
   "metadata": {},
   "outputs": [],
   "source": []
  },
  {
   "cell_type": "markdown",
   "id": "34c8ddd6",
   "metadata": {},
   "source": [
    "# Q. Write a python program to find below output using loop:-\n",
    "- Input:- 'peter piper picked a peck of pickled peppers.'\n",
    "- Output:- ['peter', 'piper', 'picked', 'a', 'peck', 'of', 'pickled','peppers']"
   ]
  },
  {
   "cell_type": "code",
   "execution_count": 62,
   "id": "07b2b6b7",
   "metadata": {},
   "outputs": [
    {
     "name": "stdout",
     "output_type": "stream",
     "text": [
      "['peter', 'piper', 'picked', 'a', 'peck', 'of', 'pickled', 'peppers']\n"
     ]
    }
   ],
   "source": [
    "my_str = 'peter piper picked a peck of pickled peppers.'\n",
    "lst =[]\n",
    "temp = ''\n",
    "for i in my_str:\n",
    "    if i == ' ' or i == '.':\n",
    "        lst += [temp]\n",
    "        temp = ''\n",
    "    else:\n",
    "        temp += i\n",
    "if len(temp)>0:\n",
    "    lst += [temp]\n",
    "print(lst)"
   ]
  },
  {
   "cell_type": "code",
   "execution_count": null,
   "id": "5873e1ad",
   "metadata": {},
   "outputs": [],
   "source": []
  },
  {
   "cell_type": "markdown",
   "id": "875d6965",
   "metadata": {},
   "source": [
    "# Q. Write a python program to find below output using loop:-\n",
    "- Input:- 'peter piper picked a peck of pickled peppers.'\n",
    "- Output:- 'peppers pickled of peck a picked piper peter'"
   ]
  },
  {
   "cell_type": "code",
   "execution_count": 74,
   "id": "3caf9451",
   "metadata": {},
   "outputs": [
    {
     "name": "stdout",
     "output_type": "stream",
     "text": [
      "['peter', 'piper', 'picked', 'a', 'peck', 'of', 'pickled', 'peppers']\n",
      "peppers pickled of peck a picked piper peter\n"
     ]
    }
   ],
   "source": [
    "my_str =  'peter piper picked a peck of pickled peppers.'\n",
    "lst =[]\n",
    "temp = ''\n",
    "res = ''\n",
    "for i in my_str:\n",
    "    if i == ' ' or i == '.':\n",
    "        lst += [temp]\n",
    "        temp = ''\n",
    "    else:\n",
    "        temp += i\n",
    "if len(temp)>0:\n",
    "    lst += [temp]\n",
    "print(lst)\n",
    "\n",
    "for i in range(len(lst)-1, -1, -1):\n",
    "     res+=lst[i]+' '\n",
    "res=res.rstrip()\n",
    "print(res)\n"
   ]
  },
  {
   "cell_type": "code",
   "execution_count": null,
   "id": "5b4ef938",
   "metadata": {},
   "outputs": [],
   "source": []
  },
  {
   "cell_type": "markdown",
   "id": "ec9db39f",
   "metadata": {},
   "source": [
    "# Q. Write a python program to find below output using loop:-\n",
    "- Input:- 'peter piper picked a peck of pickled peppers.'\n",
    "- Output:- '.sreppep delkcip fo kcep a dekcip repip retep'"
   ]
  },
  {
   "cell_type": "code",
   "execution_count": 75,
   "id": "28b01009",
   "metadata": {},
   "outputs": [
    {
     "name": "stdout",
     "output_type": "stream",
     "text": [
      ".sreppep delkcip fo kcep a dekcip repip retep\n"
     ]
    }
   ],
   "source": [
    "my_str =  'peter piper picked a peck of pickled peppers.'\n",
    "\n",
    "str1 = ''\n",
    "for i in range(len(my_str)-1, -1, -1):\n",
    "    str1 += my_str[i]\n",
    "print(str1)\n",
    "    "
   ]
  },
  {
   "cell_type": "code",
   "execution_count": null,
   "id": "3b6fc38e",
   "metadata": {},
   "outputs": [],
   "source": []
  },
  {
   "cell_type": "markdown",
   "id": "1c45154a",
   "metadata": {},
   "source": [
    "# Q. Write a python program to find below output using loop:-\n",
    "- Input:- 'peter piper picked a peck of pickled peppers.'\n",
    "- Output:- 'retep repip dekcip a kcep fo delkcip sreppep'"
   ]
  },
  {
   "cell_type": "code",
   "execution_count": 76,
   "id": "8b81c553",
   "metadata": {},
   "outputs": [
    {
     "name": "stdout",
     "output_type": "stream",
     "text": [
      "['peter', 'piper', 'picked', 'a', 'peck', 'of', 'pickled', 'peppers']\n",
      "retep repip dekcip a kcep fo delkcip sreppep\n"
     ]
    }
   ],
   "source": [
    "my_str = 'peter piper picked a peck of pickled peppers.'\n",
    "lst =[]\n",
    "temp = ''\n",
    "res = ''\n",
    "for i in my_str:\n",
    "    if i == ' ' or i == '.':\n",
    "        lst += [temp]\n",
    "        temp = ''\n",
    "    else:\n",
    "        temp += i\n",
    "if len(temp)>0:\n",
    "    lst += [temp]\n",
    "print(lst)\n",
    "for i in lst:\n",
    "    for j in range(len(i)-1,-1,-1):\n",
    "        res+=i[j]\n",
    "    res+=' '\n",
    "res=res.rstrip()\n",
    "print(res)\n"
   ]
  },
  {
   "cell_type": "code",
   "execution_count": null,
   "id": "45f4070d",
   "metadata": {},
   "outputs": [],
   "source": []
  },
  {
   "cell_type": "markdown",
   "id": "78aec56c",
   "metadata": {},
   "source": [
    "# Q. Write a python program to find below output using loop:-\n",
    "- Input:- 'peter piper picked a peck of pickled peppers.'\n",
    "- Output:- 'Peter Piper Picked A Peck Of Pickled Peppers'"
   ]
  },
  {
   "cell_type": "code",
   "execution_count": 77,
   "id": "5808e34b",
   "metadata": {},
   "outputs": [
    {
     "name": "stdout",
     "output_type": "stream",
     "text": [
      "Peter Piper Picked A Peck Of Pickled Peppers.\n"
     ]
    }
   ],
   "source": [
    "my_str = 'peter piper picked a peck of pickled peppers.'\n",
    "temp=\"\"\n",
    "temp2=\"\"\n",
    "for i in my_str:\n",
    "    if i == ' ':\n",
    "        temp2=temp2+temp[0].upper()+temp[1:]+\" \"\n",
    "        temp=\"\"\n",
    "    else:\n",
    "        temp=temp+i\n",
    "        \n",
    "        \n",
    "if temp:\n",
    "    temp2=temp2+(temp[0].upper()+temp[1:])\n",
    "        \n",
    "print(temp2)\n"
   ]
  },
  {
   "cell_type": "code",
   "execution_count": null,
   "id": "300a7903",
   "metadata": {},
   "outputs": [],
   "source": []
  },
  {
   "cell_type": "markdown",
   "id": "5a09c8e7",
   "metadata": {},
   "source": [
    "# Q. Write a python program to find below output using loop:-\n",
    "- Input:- 'Peter Piper Picked A Peck Of Pickled Peppers.'\n",
    "- Output:- 'Peter piper picked a peck of pickled peppers'"
   ]
  },
  {
   "cell_type": "code",
   "execution_count": 78,
   "id": "208fc53e",
   "metadata": {},
   "outputs": [
    {
     "name": "stdout",
     "output_type": "stream",
     "text": [
      "Peter piper picked a peck of pickled peppers.\n"
     ]
    }
   ],
   "source": [
    "my_str =  'Peter Piper Picked A Peck Of Pickled Peppers.'\n",
    "temp = ''\n",
    "str1 =''\n",
    "\n",
    "for i in my_str:\n",
    "    if i != ' ':\n",
    "        temp += i\n",
    "    else:\n",
    "        str1 = str1+temp[0].upper() + temp[1:].lower()\n",
    "        temp = ' '\n",
    "\n",
    "str1 = str1+(temp[0].upper()+temp[1:].lower())\n",
    "print(str1)"
   ]
  },
  {
   "cell_type": "code",
   "execution_count": null,
   "id": "262ebf38",
   "metadata": {},
   "outputs": [],
   "source": []
  },
  {
   "cell_type": "markdown",
   "id": "89010199",
   "metadata": {},
   "source": [
    "# Q. Write a python program to implement index method using loop. If sub_str is found in my_str then it will print the \n",
    "# index of first occurrence of first character of matching string in my_str:-\n",
    "- Input:- my_str = 'Peter Piper Picked A Peck Of Pickled Peppers.',\n",
    "- sub_str = 'Pickl'\n",
    "- Output:- 29"
   ]
  },
  {
   "cell_type": "code",
   "execution_count": 82,
   "id": "a5537e03",
   "metadata": {},
   "outputs": [
    {
     "name": "stdout",
     "output_type": "stream",
     "text": [
      "29\n"
     ]
    }
   ],
   "source": [
    "my_str = 'Peter Piper Picked A Peck Of Pickled Peppers.'\n",
    "sub_str = 'Pickl'\n",
    "\n",
    "for i in range(len(my_str)):\n",
    "    if my_str[i:i+len(sub_str)] == sub_str:\n",
    "        print(i)"
   ]
  },
  {
   "cell_type": "code",
   "execution_count": null,
   "id": "2e5958f4",
   "metadata": {},
   "outputs": [],
   "source": []
  },
  {
   "cell_type": "markdown",
   "id": "58174f42",
   "metadata": {},
   "source": [
    "# Q. Write a python program to implement replace method using loop. If \n",
    "# sub_str is found in my_str then it will replace the first\n",
    "# occurrence of sub_str with new_str else it will will print sub_str not found:-\n",
    "- Input:- my_str = 'Peter Piper Picked A Peck Of Pickled Peppers.',\n",
    "- sub_str = 'Peck', new_str = 'Pack'\n",
    "- Output:- 'Peter Piper Picked A Pack Of Pickled Peppers.'"
   ]
  },
  {
   "cell_type": "code",
   "execution_count": 92,
   "id": "4fffcc98",
   "metadata": {},
   "outputs": [
    {
     "name": "stdout",
     "output_type": "stream",
     "text": [
      "Before replacing with new_str:Peter Piper Picked A Peck Of Pickled Peppers.\n",
      "After replacing with new_str:Peter Piper Picked A Pack Of Pickled Peppers.\n"
     ]
    }
   ],
   "source": [
    "my_str = 'Peter Piper Picked A Peck Of Pickled Peppers.'\n",
    "sub_str = 'Peck'\n",
    "new_str = 'Pack'\n",
    "new_my_str = ''\n",
    "print(f'Before replacing with new_str:{my_str}')\n",
    "i = 0\n",
    "while i < len(my_str):\n",
    "    if my_str[i:i+len(sub_str)] == sub_str:\n",
    "        new_my_str += new_str\n",
    "        i += len(sub_str)\n",
    "    else:\n",
    "        new_my_str +=my_str[i]\n",
    "        i +=1\n",
    "print(f'After replacing with new_str:{new_my_str}')\n",
    "      \n"
   ]
  },
  {
   "cell_type": "code",
   "execution_count": null,
   "id": "12f54a8a",
   "metadata": {},
   "outputs": [],
   "source": []
  },
  {
   "cell_type": "markdown",
   "id": "140d6bfb",
   "metadata": {},
   "source": [
    "# Q. Write a python program to find below output (implements rjust and ljust) using loop:-\n",
    "- Input:- 'Peter Piper Picked A Peck Of Pickled Peppers.', sub_str ='Peck',\n",
    "- Output:- '*********************Peck********************'"
   ]
  },
  {
   "cell_type": "code",
   "execution_count": 93,
   "id": "4b8a09f0",
   "metadata": {},
   "outputs": [
    {
     "name": "stdout",
     "output_type": "stream",
     "text": [
      "*********************Peck********************\n"
     ]
    }
   ],
   "source": [
    "my_str =  'Peter Piper Picked A Peck Of Pickled Peppers.'\n",
    "sub_str ='Peck'\n",
    "str1 = ''\n",
    "i=0\n",
    "while i<len(my_str):\n",
    "    if my_str[i:i+len(sub_str)] == sub_str:\n",
    "        str1 += sub_str\n",
    "        i += len(sub_str)\n",
    "    else:\n",
    "        str1 +='*'\n",
    "        i +=1\n",
    "        \n",
    "print(str1)\n",
    "    "
   ]
  },
  {
   "cell_type": "code",
   "execution_count": null,
   "id": "06016f62",
   "metadata": {},
   "outputs": [],
   "source": []
  },
  {
   "cell_type": "markdown",
   "id": "c6199451",
   "metadata": {},
   "source": [
    "# Q. Write a python program to find below output using loop:-\n",
    "- Input:- 'This is Python class', sep = ' is',\n",
    "- Output:- ['This', 'is', 'Python class']"
   ]
  },
  {
   "cell_type": "code",
   "execution_count": 94,
   "id": "33a2d9ab",
   "metadata": {},
   "outputs": [
    {
     "name": "stdout",
     "output_type": "stream",
     "text": [
      "4\n",
      "['This', ' is', ' Python class']\n"
     ]
    }
   ],
   "source": [
    "my_str =  'This is Python class'\n",
    "sep = ' is'\n",
    "lst = []\n",
    "temp = \"\"\n",
    "for i in range(len(my_str)):\n",
    "    if my_str[i:i+len(sep)] == sep:\n",
    "        lst.append(my_str[:i])\n",
    "        lst.append(sep)\n",
    "        print(i)\n",
    "        lst.append(my_str[i+len(sep):])\n",
    "        \n",
    "print(lst)\n",
    "\n"
   ]
  },
  {
   "cell_type": "code",
   "execution_count": null,
   "id": "4a10c060",
   "metadata": {},
   "outputs": [],
   "source": []
  }
 ],
 "metadata": {
  "kernelspec": {
   "display_name": "Python 3 (ipykernel)",
   "language": "python",
   "name": "python3"
  },
  "language_info": {
   "codemirror_mode": {
    "name": "ipython",
    "version": 3
   },
   "file_extension": ".py",
   "mimetype": "text/x-python",
   "name": "python",
   "nbconvert_exporter": "python",
   "pygments_lexer": "ipython3",
   "version": "3.9.13"
  }
 },
 "nbformat": 4,
 "nbformat_minor": 5
}
